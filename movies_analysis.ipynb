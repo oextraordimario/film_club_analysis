{
 "cells": [
  {
   "cell_type": "markdown",
   "metadata": {},
   "source": [
    "# Prep"
   ]
  },
  {
   "cell_type": "markdown",
   "metadata": {},
   "source": [
    "## Imports"
   ]
  },
  {
   "cell_type": "code",
   "execution_count": 1,
   "metadata": {},
   "outputs": [],
   "source": [
    "import pandas as pd\n",
    "import numpy as np\n",
    "import requests\n",
    "import json\n",
    "import os\n",
    "\n",
    "from dotenv import load_dotenv\n",
    "from bs4 import BeautifulSoup"
   ]
  },
  {
   "cell_type": "markdown",
   "metadata": {},
   "source": [
    "## Auth"
   ]
  },
  {
   "cell_type": "code",
   "execution_count": 2,
   "metadata": {},
   "outputs": [],
   "source": [
    "load_dotenv(r\"C:\\\\Users\\\\User\\\\Documents\\\\GitHub\\\\movies\\\\tmdb_auth.env\")\n",
    "\n",
    "api_key = os.getenv(\"API_KEY\")\n",
    "access_token = os.getenv(\"ACCESS_TOKEN\")"
   ]
  },
  {
   "cell_type": "markdown",
   "metadata": {},
   "source": [
    "# TMDB API Data"
   ]
  },
  {
   "cell_type": "code",
   "execution_count": null,
   "metadata": {},
   "outputs": [],
   "source": [
    "tmdb_url = \"https://api.themoviedb.org/3/account/21623434/rated/movies?language=en-US&page=1&sort_by=created_at.asc\"\n",
    "\n",
    "headers = {\n",
    "    \"accept\": \"application/json\",\n",
    "    \"Authorization\": f\"Bearer {access_token}\"\n",
    "}\n",
    "\n",
    "#response = requests.get(tmdb_url, headers=headers)"
   ]
  },
  {
   "cell_type": "code",
   "execution_count": 4,
   "metadata": {},
   "outputs": [
    {
     "name": "stdout",
     "output_type": "stream",
     "text": [
      "{\"page\":1,\"results\":[{\"adult\":false,\"backdrop_path\":\"/y4Kw8lT0BEBHaEm4hqw12AKJNoZ.jpg\",\"genre_ids\":[18,10751],\"id\":13841,\"original_language\":\"en\",\"original_title\":\"Rad\",\"overview\":\"A BMX racer, who lives in a small town with his mother and sister, is faced with a tough decision, qualify for Helltrack or take his SATs in order to attend college.\",\"popularity\":14.588,\"poster_path\":\"/yg7TR7U4f2xRrVrM0IyDUGuFSHa.jpg\",\"release_date\":\"1986-03-21\",\"title\":\"Rad\",\"video\":false,\"vote_average\":6.541,\"vote_count\":97,\"rating\":6.0},{\"adult\":false,\"backdrop_path\":\"/gE0MLnPzXHoAJIogLhsqt0RW39R.jpg\",\"genre_ids\":[12,35,18,10751],\"id\":183,\"original_language\":\"en\",\"original_title\":\"The Wizard\",\"overview\":\"A boy and his brother run away from home and hitch cross-country, with help from a girl they meet, to compete in the ultimate video-game championship.\",\"popularity\":10.41,\"poster_path\":\"/dtgNNq3TBbpBX6RXHLt5gAMdwPV.jpg\",\"release_date\":\"1989-12-15\",\"title\":\"The Wizard\",\"video\":false,\"vote_average\":6.029,\"vote_count\":308,\"rating\":4.0},{\"adult\":false,\"backdrop_path\":\"/fMiEp00v8gGWEceL4QeLu6H6z69.jpg\",\"genre_ids\":[28,12,14],\"id\":639933,\"original_language\":\"en\",\"original_title\":\"The Northman\",\"overview\":\"Prince Amleth is on the verge of becoming a man when his father is brutally murdered by his uncle, who kidnaps the boy's mother. Two decades later, Amleth is now a Viking who's on a mission to save his mother, kill his uncle and avenge his father.\",\"popularity\":95.637,\"poster_path\":\"/aSSJMnHknzKjlZ6zybwD7eyJ4Po.jpg\",\"release_date\":\"2022-04-07\",\"title\":\"The Northman\",\"video\":false,\"vote_average\":7.062,\"vote_count\":4250,\"rating\":6.0},{\"adult\":false,\"backdrop_path\":\"/o8dPH0ZSIyyViP6rjRX1djwCUwI.jpg\",\"genre_ids\":[9648,53,27],\"id\":419430,\"original_language\":\"en\",\"original_title\":\"Get Out\",\"overview\":\"Chris and his girlfriend Rose go upstate to visit her parents for the weekend. At first, Chris reads the family's overly accommodating behavior as nervous attempts to deal with their daughter's interracial relationship, but as the weekend progresses, a series of increasingly disturbing discoveries lead him to a truth that he never could have imagined.\",\"popularity\":61.701,\"poster_path\":\"/tFXcEccSQMf3lfhfXKSU9iRBpa3.jpg\",\"release_date\":\"2017-02-24\",\"title\":\"Get Out\",\"video\":false,\"vote_average\":7.6,\"vote_count\":17336,\"rating\":8.0},{\"adult\":false,\"backdrop_path\":\"/77GGKq6Ixq6ZiqBM6XcPZgQmiN2.jpg\",\"genre_ids\":[18,28],\"id\":579974,\"original_language\":\"te\",\"original_title\":\"రౌద్రం రణం రుధిరం\",\"overview\":\"A fictional history of two legendary revolutionaries' journey away from home before they began fighting for their country in the 1920s.\",\"popularity\":57.271,\"poster_path\":\"/u0XUBNQWlOvrh0Gd97ARGpIkL0.jpg\",\"release_date\":\"2022-03-24\",\"title\":\"RRR\",\"video\":false,\"vote_average\":7.744,\"vote_count\":1291,\"rating\":8.0}],\"total_pages\":1,\"total_results\":5}\n"
     ]
    }
   ],
   "source": [
    "print(response.text)"
   ]
  },
  {
   "cell_type": "markdown",
   "metadata": {},
   "source": [
    "# Letterboxd Scraping Data"
   ]
  },
  {
   "cell_type": "markdown",
   "metadata": {},
   "source": [
    "## Functions"
   ]
  },
  {
   "cell_type": "code",
   "execution_count": 20,
   "metadata": {},
   "outputs": [],
   "source": [
    "def get_film_urls(list_url):\n",
    "    content = requests.get(list_url).text\n",
    "    soup = BeautifulSoup(content, 'html')\n",
    "\n",
    "    url_list = [div['data-target-link'] for div in soup.find_all('div', class_='film-poster')]\n",
    "\n",
    "    return url_list"
   ]
  },
  {
   "cell_type": "code",
   "execution_count": 21,
   "metadata": {},
   "outputs": [],
   "source": [
    "def get_raw_film_html(film_url):\n",
    "    url = \"https://letterboxd.com\" + film_url\n",
    "    content = requests.get(url).text\n",
    "    soup = BeautifulSoup(content, 'html')\n",
    "\n",
    "    return soup"
   ]
  },
  {
   "cell_type": "code",
   "execution_count": 42,
   "metadata": {},
   "outputs": [],
   "source": [
    "def get_film_cast(soup):\n",
    "    cast_list = []\n",
    "    cast = soup.find(name='div', class_='cast-list').find_all('a', class_='tooltip')\n",
    "\n",
    "    for member in cast:\n",
    "        member_info = {\n",
    "            'name': member.get_text(strip=True),\n",
    "            'link': member['href'],\n",
    "            'character_name': member['title']\n",
    "        }\n",
    "        cast_list.append(member_info)\n",
    "\n",
    "    return cast_list"
   ]
  },
  {
   "cell_type": "code",
   "execution_count": 56,
   "metadata": {},
   "outputs": [],
   "source": [
    "def get_film_genres(soup):\n",
    "    genres = [a_tag.get_text(strip=True) for a_tag in soup.find(id='tab-genres').find_all('a')]\n",
    "\n",
    "    return genres[:-1]"
   ]
  },
  {
   "cell_type": "code",
   "execution_count": 57,
   "metadata": {},
   "outputs": [],
   "source": [
    "def get_all_film_data(film_url):\n",
    "    film_soup = get_raw_film_html(film_url)\n",
    "\n",
    "    film_data = {\n",
    "        'cast': get_film_cast(film_soup),\n",
    "        'genres_and_themes': get_film_genres(film_soup)\n",
    "    }\n",
    "\n",
    "    return film_data"
   ]
  },
  {
   "cell_type": "markdown",
   "metadata": {},
   "source": [
    "## Extraction"
   ]
  },
  {
   "cell_type": "code",
   "execution_count": 44,
   "metadata": {},
   "outputs": [],
   "source": [
    "film_urls = get_film_urls(\"https://letterboxd.com/dromemario/list/fff-film-fueled-friends/\")"
   ]
  },
  {
   "cell_type": "code",
   "execution_count": null,
   "metadata": {},
   "outputs": [],
   "source": [
    "soup_wizard = get_raw_film_html(film_urls[0])\n",
    "\n",
    "cast_wizard = get_film_cast(soup_wizard)\n",
    "genres_wizard = get_film_genres(soup_wizard)"
   ]
  },
  {
   "cell_type": "code",
   "execution_count": 55,
   "metadata": {},
   "outputs": [
    {
     "data": {
      "text/plain": [
       "['Adventure',\n",
       " 'Family',\n",
       " 'Drama',\n",
       " 'Comedy',\n",
       " 'Underdogs and coming of age',\n",
       " 'Teen friendship and coming-of-age',\n",
       " 'Emotional and touching family dramas',\n",
       " \"Kids' animated fun and adventure\"]"
      ]
     },
     "execution_count": 55,
     "metadata": {},
     "output_type": "execute_result"
    }
   ],
   "source": [
    "get_film_genres(soup_wizard)[:-1]"
   ]
  },
  {
   "cell_type": "code",
   "execution_count": 52,
   "metadata": {},
   "outputs": [
    {
     "data": {
      "text/plain": [
       "[<a class=\"text-slug\" href=\"/films/genre/adventure/\">Adventure</a>,\n",
       " <a class=\"text-slug\" href=\"/films/genre/family/\">Family</a>,\n",
       " <a class=\"text-slug\" href=\"/films/genre/drama/\">Drama</a>,\n",
       " <a class=\"text-slug\" href=\"/films/genre/comedy/\">Comedy</a>,\n",
       " <a class=\"text-slug\" href=\"/films/theme/underdogs-and-coming-of-age/by/best-match/\">Underdogs and coming of age</a>,\n",
       " <a class=\"text-slug\" href=\"/films/mini-theme/surfing-kids-adolescents-youth-lesson/by/best-match/\">Teen friendship and coming-of-age</a>,\n",
       " <a class=\"text-slug\" href=\"/films/mini-theme/family-touching-kids-cry-tear-jerker/by/best-match/\">Emotional and touching family dramas</a>,\n",
       " <a class=\"text-slug\" href=\"/films/mini-theme/humor-cartoon-funny-jokes-lovable/by/best-match/\">Kids' animated fun and adventure</a>,\n",
       " <a class=\"text-slug\" href=\"/film/the-wizard/themes/\">Show All…</a>]"
      ]
     },
     "execution_count": 52,
     "metadata": {},
     "output_type": "execute_result"
    }
   ],
   "source": [
    "soup_wizard.find(id='tab-genres').find_all('a')"
   ]
  },
  {
   "cell_type": "code",
   "execution_count": 23,
   "metadata": {},
   "outputs": [
    {
     "data": {
      "text/plain": [
       "['Leon Lai',\n",
       " 'Charlie Yeung',\n",
       " 'Takeshi Kaneshiro',\n",
       " 'Karen Mok Man-Wai',\n",
       " 'Michelle Reis',\n",
       " 'Chan Man-Lei',\n",
       " 'Toru Saito',\n",
       " 'Benz Kong To-Hoi',\n",
       " 'Chan Fai-hung',\n",
       " 'Kwan Lee-na',\n",
       " 'Wu Yuk-Ho',\n",
       " 'Johnnie Kong',\n",
       " 'Chun Kang Wang',\n",
       " 'Mak Shu-San',\n",
       " 'Choi Kwok-Ping',\n",
       " 'Chan Siu-Wah',\n",
       " 'Chow Gam-Kong',\n",
       " 'Leung Shing-Hung',\n",
       " 'Wong Kim-Wai',\n",
       " 'Wong Kim-Bun',\n",
       " 'Choi Kwok-Keung',\n",
       " 'Lee Tat-Chiu',\n",
       " 'Cheung Chi-Ping']"
      ]
     },
     "execution_count": 23,
     "metadata": {},
     "output_type": "execute_result"
    }
   ],
   "source": [
    "[a_tag.get_text(strip=True) for a_tag in soup.find(name='div', class_='cast-list').find_all('a')]"
   ]
  },
  {
   "cell_type": "code",
   "execution_count": 22,
   "metadata": {},
   "outputs": [
    {
     "data": {
      "text/plain": [
       "[<a class=\"text-slug tooltip\" href=\"/actor/leon-lai-1/\" title=\"Wong Chi-Ming\">Leon Lai</a>,\n",
       " <a class=\"text-slug tooltip\" href=\"/actor/charlie-yeung/\" title=\"Charlie\">Charlie Yeung</a>,\n",
       " <a class=\"text-slug tooltip\" href=\"/actor/takeshi-kaneshiro/\" title=\"Ho Chi-mo\">Takeshi Kaneshiro</a>,\n",
       " <a class=\"text-slug tooltip\" href=\"/actor/karen-mok/\" title=\"Blondie\">Karen Mok Man-Wai</a>,\n",
       " <a class=\"text-slug tooltip\" href=\"/actor/michelle-reis/\" title=\"Killer's Agent\">Michelle Reis</a>,\n",
       " <a class=\"text-slug tooltip\" href=\"/actor/chan-man-lei/\" title=\"Wu's Father\">Chan Man-Lei</a>,\n",
       " <a class=\"text-slug tooltip\" href=\"/actor/toru-saito/\" title=\"Sato\">Toru Saito</a>,\n",
       " <a class=\"text-slug tooltip\" href=\"/actor/benz-kong-to-hoi/\" title=\"Ah Hoi\">Benz Kong To-Hoi</a>,\n",
       " <a class=\"text-slug tooltip\" href=\"/actor/chan-fai-hung/\" title=\"Man Forced to Eat Ice-cream\">Chan Fai-hung</a>,\n",
       " <a class=\"text-slug tooltip\" href=\"/actor/kwan-lee-na/\" title=\"Woman Pressed to Buy Vegetables\">Kwan Lee-na</a>,\n",
       " <a class=\"text-slug tooltip\" href=\"/actor/wu-yuk-ho/\" title=\"Man Forced to Have His Clothes Washed\">Wu Yuk-Ho</a>,\n",
       " <a class=\"text-slug tooltip\" href=\"/actor/johnnie-kong/\" title=\"Victim\">Johnnie Kong</a>,\n",
       " <a class=\"text-slug tooltip\" href=\"/actor/chun-kang-wang/\" title=\"Victim\">Chun Kang Wang</a>,\n",
       " <a class=\"text-slug tooltip\" href=\"/actor/mak-shu-san/\" title=\"Tenant\">Mak Shu-San</a>,\n",
       " <a class=\"text-slug tooltip\" href=\"/actor/choi-kwok-ping/\" title=\"Rascal\">Choi Kwok-Ping</a>,\n",
       " <a class=\"text-slug tooltip\" href=\"/actor/chan-siu-wah/\" title=\"Rascal\">Chan Siu-Wah</a>,\n",
       " <a class=\"text-slug tooltip\" href=\"/actor/chow-gam-kong/\" title=\"Hitman\">Chow Gam-Kong</a>,\n",
       " <a class=\"text-slug tooltip\" href=\"/actor/leung-shing-hung/\" title=\"Hitman\">Leung Shing-Hung</a>,\n",
       " <a class=\"text-slug tooltip\" href=\"/actor/wong-kim-wai/\" title=\"Hitman\">Wong Kim-Wai</a>,\n",
       " <a class=\"text-slug tooltip\" href=\"/actor/wong-kim-bun/\" title=\"Hitman\">Wong Kim-Bun</a>,\n",
       " <a class=\"text-slug tooltip\" href=\"/actor/choi-kwok-keung/\" title=\"Hitman\">Choi Kwok-Keung</a>,\n",
       " <a class=\"text-slug tooltip\" href=\"/actor/lee-tat-chiu-1/\">Lee Tat-Chiu</a>,\n",
       " <a class=\"text-slug tooltip\" href=\"/actor/cheung-chi-ping-1/\">Cheung Chi-Ping</a>]"
      ]
     },
     "execution_count": 22,
     "metadata": {},
     "output_type": "execute_result"
    }
   ],
   "source": [
    "soup.find(name='div', class_='cast-list').find_all('a')"
   ]
  }
 ],
 "metadata": {
  "kernelspec": {
   "display_name": "Python 3",
   "language": "python",
   "name": "python3"
  },
  "language_info": {
   "codemirror_mode": {
    "name": "ipython",
    "version": 3
   },
   "file_extension": ".py",
   "mimetype": "text/x-python",
   "name": "python",
   "nbconvert_exporter": "python",
   "pygments_lexer": "ipython3",
   "version": "3.11.2"
  }
 },
 "nbformat": 4,
 "nbformat_minor": 2
}
