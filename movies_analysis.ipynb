{
 "cells": [
  {
   "cell_type": "markdown",
   "metadata": {},
   "source": [
    "# Prep"
   ]
  },
  {
   "cell_type": "markdown",
   "metadata": {},
   "source": [
    "## Imports"
   ]
  },
  {
   "cell_type": "code",
   "execution_count": 9,
   "metadata": {},
   "outputs": [],
   "source": [
    "import pandas as pd\n",
    "import numpy as np\n",
    "import requests\n",
    "import json\n",
    "import os\n",
    "\n",
    "from dotenv import load_dotenv"
   ]
  },
  {
   "cell_type": "markdown",
   "metadata": {},
   "source": [
    "## Auth"
   ]
  },
  {
   "cell_type": "code",
   "execution_count": 19,
   "metadata": {},
   "outputs": [],
   "source": [
    "load_dotenv(r\"C:\\\\Users\\\\User\\\\Documents\\\\GitHub\\\\movies\\\\tmdb_auth.env\")\n",
    "\n",
    "api_key = os.getenv(\"API_KEY\")\n",
    "access_token = os.getenv(\"ACCESS_TOKEN\")"
   ]
  },
  {
   "cell_type": "markdown",
   "metadata": {},
   "source": [
    "# Extraction"
   ]
  },
  {
   "cell_type": "code",
   "execution_count": 22,
   "metadata": {},
   "outputs": [],
   "source": [
    "url = \"https://api.themoviedb.org/3/account/21623434/rated/movies?language=en-US&page=1&sort_by=created_at.asc\"\n",
    "\n",
    "headers = {\n",
    "    \"accept\": \"application/json\",\n",
    "    \"Authorization\": f\"Bearer {access_token}\"\n",
    "}\n",
    "\n",
    "response = requests.get(url, headers=headers)"
   ]
  },
  {
   "cell_type": "code",
   "execution_count": 23,
   "metadata": {},
   "outputs": [
    {
     "name": "stdout",
     "output_type": "stream",
     "text": [
      "{\"page\":1,\"results\":[{\"adult\":false,\"backdrop_path\":\"/y4Kw8lT0BEBHaEm4hqw12AKJNoZ.jpg\",\"genre_ids\":[18,10751],\"id\":13841,\"original_language\":\"en\",\"original_title\":\"Rad\",\"overview\":\"A BMX racer, who lives in a small town with his mother and sister, is faced with a tough decision, qualify for Helltrack or take his SATs in order to attend college.\",\"popularity\":10.42,\"poster_path\":\"/yg7TR7U4f2xRrVrM0IyDUGuFSHa.jpg\",\"release_date\":\"1986-03-21\",\"title\":\"Rad\",\"video\":false,\"vote_average\":6.541,\"vote_count\":97,\"rating\":6.0},{\"adult\":false,\"backdrop_path\":\"/gE0MLnPzXHoAJIogLhsqt0RW39R.jpg\",\"genre_ids\":[12,35,18,10751],\"id\":183,\"original_language\":\"en\",\"original_title\":\"The Wizard\",\"overview\":\"A boy and his brother run away from home and hitch cross-country, with help from a girl they meet, to compete in the ultimate video-game championship.\",\"popularity\":9.398,\"poster_path\":\"/dtgNNq3TBbpBX6RXHLt5gAMdwPV.jpg\",\"release_date\":\"1989-12-15\",\"title\":\"The Wizard\",\"video\":false,\"vote_average\":6.029,\"vote_count\":308,\"rating\":4.0},{\"adult\":false,\"backdrop_path\":\"/fMiEp00v8gGWEceL4QeLu6H6z69.jpg\",\"genre_ids\":[28,12,14],\"id\":639933,\"original_language\":\"en\",\"original_title\":\"The Northman\",\"overview\":\"Prince Amleth is on the verge of becoming a man when his father is brutally murdered by his uncle, who kidnaps the boy's mother. Two decades later, Amleth is now a Viking who's on a mission to save his mother, kill his uncle and avenge his father.\",\"popularity\":77.448,\"poster_path\":\"/aSSJMnHknzKjlZ6zybwD7eyJ4Po.jpg\",\"release_date\":\"2022-04-07\",\"title\":\"The Northman\",\"video\":false,\"vote_average\":7.062,\"vote_count\":4250,\"rating\":6.0},{\"adult\":false,\"backdrop_path\":\"/o8dPH0ZSIyyViP6rjRX1djwCUwI.jpg\",\"genre_ids\":[9648,53,27],\"id\":419430,\"original_language\":\"en\",\"original_title\":\"Get Out\",\"overview\":\"Chris and his girlfriend Rose go upstate to visit her parents for the weekend. At first, Chris reads the family's overly accommodating behavior as nervous attempts to deal with their daughter's interracial relationship, but as the weekend progresses, a series of increasingly disturbing discoveries lead him to a truth that he never could have imagined.\",\"popularity\":82.966,\"poster_path\":\"/tFXcEccSQMf3lfhfXKSU9iRBpa3.jpg\",\"release_date\":\"2017-02-24\",\"title\":\"Get Out\",\"video\":false,\"vote_average\":7.62,\"vote_count\":17336,\"rating\":8.0},{\"adult\":false,\"backdrop_path\":\"/77GGKq6Ixq6ZiqBM6XcPZgQmiN2.jpg\",\"genre_ids\":[18,28],\"id\":579974,\"original_language\":\"te\",\"original_title\":\"రౌద్రం రణం రుధిరం\",\"overview\":\"A fictional history of two legendary revolutionaries' journey away from home before they began fighting for their country in the 1920s.\",\"popularity\":66.677,\"poster_path\":\"/u0XUBNQWlOvrh0Gd97ARGpIkL0.jpg\",\"release_date\":\"2022-03-24\",\"title\":\"RRR\",\"video\":false,\"vote_average\":7.743,\"vote_count\":1290,\"rating\":8.0}],\"total_pages\":1,\"total_results\":5}\n"
     ]
    }
   ],
   "source": [
    "print(response.text)"
   ]
  }
 ],
 "metadata": {
  "kernelspec": {
   "display_name": "Python 3",
   "language": "python",
   "name": "python3"
  },
  "language_info": {
   "codemirror_mode": {
    "name": "ipython",
    "version": 3
   },
   "file_extension": ".py",
   "mimetype": "text/x-python",
   "name": "python",
   "nbconvert_exporter": "python",
   "pygments_lexer": "ipython3",
   "version": "3.11.2"
  }
 },
 "nbformat": 4,
 "nbformat_minor": 2
}
