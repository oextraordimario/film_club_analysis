{
 "cells": [
  {
   "cell_type": "markdown",
   "metadata": {},
   "source": [
    "# Prep"
   ]
  },
  {
   "cell_type": "markdown",
   "metadata": {},
   "source": [
    "## Imports"
   ]
  },
  {
   "cell_type": "code",
   "execution_count": 156,
   "metadata": {},
   "outputs": [],
   "source": [
    "import pandas as pd\n",
    "import numpy as np\n",
    "import requests\n",
    "import pprint\n",
    "import json\n",
    "import os\n",
    "import re\n",
    "\n",
    "from dotenv import load_dotenv\n",
    "from bs4 import BeautifulSoup"
   ]
  },
  {
   "cell_type": "markdown",
   "metadata": {},
   "source": [
    "## Auth"
   ]
  },
  {
   "cell_type": "code",
   "execution_count": 157,
   "metadata": {},
   "outputs": [],
   "source": [
    "load_dotenv(r\"C:\\\\Users\\\\User\\\\Documents\\\\GitHub\\\\movies\\\\tmdb_auth.env\")\n",
    "\n",
    "api_key = os.getenv(\"API_KEY\")\n",
    "access_token = os.getenv(\"ACCESS_TOKEN\")"
   ]
  },
  {
   "cell_type": "markdown",
   "metadata": {},
   "source": [
    "# TMDB API Data"
   ]
  },
  {
   "cell_type": "code",
   "execution_count": 158,
   "metadata": {},
   "outputs": [],
   "source": [
    "tmdb_url = \"https://api.themoviedb.org/3/account/21623434/rated/movies?language=en-US&page=1&sort_by=created_at.asc\"\n",
    "\n",
    "headers = {\n",
    "    \"accept\": \"application/json\",\n",
    "    \"Authorization\": f\"Bearer {access_token}\"\n",
    "}\n",
    "\n",
    "#response = requests.get(tmdb_url, headers=headers)\n"
   ]
  },
  {
   "cell_type": "code",
   "execution_count": 159,
   "metadata": {},
   "outputs": [],
   "source": [
    "#data = json.loads(response.text)\n",
    "#data['results']"
   ]
  },
  {
   "cell_type": "markdown",
   "metadata": {},
   "source": [
    "# Letterboxd Scraping Data"
   ]
  },
  {
   "cell_type": "markdown",
   "metadata": {},
   "source": [
    "## Functions"
   ]
  },
  {
   "cell_type": "code",
   "execution_count": 160,
   "metadata": {},
   "outputs": [],
   "source": [
    "def get_film_urls(list_url):\n",
    "    content = requests.get(list_url).text\n",
    "    soup = BeautifulSoup(content, 'html')\n",
    "\n",
    "    url_list = [div['data-target-link'] for div in soup.find_all('div', class_='film-poster')]\n",
    "\n",
    "    return url_list"
   ]
  },
  {
   "cell_type": "code",
   "execution_count": 161,
   "metadata": {},
   "outputs": [],
   "source": [
    "def get_raw_film_html(film_url):\n",
    "    url = \"https://letterboxd.com\" + film_url\n",
    "    content = requests.get(url).text\n",
    "    soup = BeautifulSoup(content, 'html.parser')\n",
    "\n",
    "    return soup"
   ]
  },
  {
   "cell_type": "code",
   "execution_count": 162,
   "metadata": {},
   "outputs": [],
   "source": [
    "def get_general_film_data(soup):\n",
    "    duration_string = soup.find(class_='text-footer').get_text().replace('\\xa0', ' ').strip()\n",
    "\n",
    "    general_data = {\n",
    "        'letterboxd_id': soup.find(id='backdrop')['data-film-id'],\n",
    "        'letterboxd_shorttitle': soup.find('h1', class_='filmtitle').get_text(),\n",
    "        'letterboxd_longtitle': soup.find(property='og:title')['content'],\n",
    "        'letterboxd_slug': soup.find(id='backdrop')['data-film-slug'],\n",
    "        'letterboxd_url': soup.find(property='og:url')['content'],\n",
    "        'imdb_url': soup.find('a', {'data-track-action': 'IMDb'})['href'],\n",
    "        'tmdb_url': soup.find('a', {'data-track-action': 'TMDb'})['href'],\n",
    "        'tmdb_id': '',\n",
    "        'release_year': soup.find(class_='releaseyear').find('a').get_text(strip=True),\n",
    "        'duration': re.search(r'(\\d+)\\s+mins', duration_string).group(1),\n",
    "        'avg_rating': soup.find('meta', attrs={'name': 'twitter:data2'})['content'].split(' out')[0]\n",
    "    }\n",
    "\n",
    "    general_data['tmdb_id'] = general_data['tmdb_url'].split('/')[-2]\n",
    "\n",
    "    return general_data"
   ]
  },
  {
   "cell_type": "code",
   "execution_count": 163,
   "metadata": {},
   "outputs": [],
   "source": [
    "def get_film_cast(soup):\n",
    "    cast_list = []\n",
    "    cast = soup.find(name='div', class_='cast-list').find_all('a', class_='tooltip')\n",
    "\n",
    "    for member in cast:\n",
    "        cast_member_info = {\n",
    "            'name': member.get_text(strip=True),\n",
    "            'link': member['href']\n",
    "            #'character_name': member['title']\n",
    "        }\n",
    "\n",
    "        try:\n",
    "            cast_member_info['character_name'] = member['title']\n",
    "        except:\n",
    "            cast_member_info['character_name'] = None\n",
    "        cast_list.append(cast_member_info)\n",
    "\n",
    "    return cast_list"
   ]
  },
  {
   "cell_type": "code",
   "execution_count": 164,
   "metadata": {},
   "outputs": [],
   "source": [
    "def get_film_crew(soup):\n",
    "    crew_list = []\n",
    "    crew = soup.find(id='tab-crew').find_all('a')\n",
    "\n",
    "    for member in crew:\n",
    "        split_link = member['href'].split('/')\n",
    "        \n",
    "        crew_member_info = {\n",
    "            'name': member.get_text(strip=True),\n",
    "            'role': split_link[1],\n",
    "            'link': member['href'],\n",
    "        }\n",
    "        crew_list.append(crew_member_info)\n",
    "    \n",
    "    return crew_list"
   ]
  },
  {
   "cell_type": "code",
   "execution_count": 165,
   "metadata": {},
   "outputs": [],
   "source": [
    "def get_film_details(soup):\n",
    "    details_list = []\n",
    "    details = soup.find(id='tab-details').find_all('a')\n",
    "\n",
    "    for detail in details:\n",
    "        split_link = detail['href'].split('/')\n",
    "\n",
    "        detail_info = {\n",
    "            'key': '',\n",
    "            'value': detail.get_text(strip=True),\n",
    "            'link': detail['href']\n",
    "        }\n",
    "\n",
    "        if 'studio' in detail['href']:\n",
    "            detail_info['key'] = 'studio'\n",
    "        elif 'country' in detail['href']:\n",
    "            detail_info['key'] = 'country'\n",
    "        elif 'language' in detail['href']:\n",
    "            detail_info['key'] = 'language'\n",
    "        else:\n",
    "            detail_info['key'] = 'ERROR'\n",
    "        details_list.append(detail_info)\n",
    "\n",
    "    return details_list"
   ]
  },
  {
   "cell_type": "code",
   "execution_count": 166,
   "metadata": {},
   "outputs": [],
   "source": [
    "def get_film_genres(soup):\n",
    "    genres = [a_tag.get_text(strip=True) for a_tag in soup.find(id='tab-genres').find_all('a')]\n",
    "\n",
    "    return genres[:-1]"
   ]
  },
  {
   "cell_type": "code",
   "execution_count": 167,
   "metadata": {},
   "outputs": [],
   "source": [
    "def get_complete_film_data(film_url):\n",
    "    film_soup = get_raw_film_html(film_url)\n",
    "\n",
    "    film_data = {\n",
    "        'general_data': get_general_film_data(film_soup),\n",
    "        'cast': get_film_cast(film_soup),\n",
    "        'crew': get_film_crew(film_soup),\n",
    "        'details': get_film_details(film_soup),\n",
    "        'genres_and_themes': get_film_genres(film_soup)\n",
    "    }\n",
    "\n",
    "    return film_data"
   ]
  },
  {
   "cell_type": "code",
   "execution_count": 168,
   "metadata": {},
   "outputs": [],
   "source": [
    "def get_all_films(url_list):\n",
    "    whole_data = []\n",
    "\n",
    "    counter = 0\n",
    "    for film in url_list:\n",
    "        #print(f\"Extracting from URL #{counter}:\\n{film}\\n\")\n",
    "        whole_data.append(get_complete_film_data(film))\n",
    "        counter += 1\n",
    "    \n",
    "    return whole_data"
   ]
  },
  {
   "cell_type": "code",
   "execution_count": 181,
   "metadata": {},
   "outputs": [],
   "source": [
    "def dicts_to_dfs(data):\n",
    "    all_dfs_gdata = [] # general data\n",
    "    all_dfs_cast = []\n",
    "    all_dfs_crew = []\n",
    "    all_dfs_details = []\n",
    "    all_dfs_gthemes = []\n",
    "\n",
    "\n",
    "    for film in data:\n",
    "        id = film['general_data']['letterboxd_id']\n",
    "        title = film['general_data']['letterboxd_shorttitle']\n",
    "        \n",
    "        single_df_gdata = pd.DataFrame.from_dict([film['general_data']])\n",
    "        all_dfs_gdata.append(single_df_gdata)\n",
    "\n",
    "        single_df_cast = pd.DataFrame.from_dict(film['cast']).assign(film_id = id, film_title = title)\n",
    "        all_dfs_cast.append(single_df_cast)\n",
    "\n",
    "        single_df_crew = pd.DataFrame.from_dict(film['crew']).assign(film_id = id, film_title = title)\n",
    "        all_dfs_crew.append(single_df_crew)\n",
    "\n",
    "        single_df_details = pd.DataFrame.from_dict(film['details']).assign(film_id = id, film_title = title)\n",
    "        all_dfs_details.append(single_df_details)\n",
    "\n",
    "        single_df_gthemes = pd.DataFrame.from_dict(film['genres_and_themes']).assign(film_id = id, film_title = title)\n",
    "        all_dfs_gthemes.append(single_df_gthemes)\n",
    "\n",
    "    all_dfs_dict = {\n",
    "        'df_gdata': pd.concat(all_dfs_gdata),\n",
    "        'df_cast': pd.concat(all_dfs_cast),\n",
    "        'df_crew': pd.concat(all_dfs_crew),\n",
    "        'df_details': pd.concat(all_dfs_details),\n",
    "        'df_gthemes': pd.concat(all_dfs_gthemes)\n",
    "    }\n",
    "\n",
    "    return all_dfs_dict"
   ]
  },
  {
   "cell_type": "markdown",
   "metadata": {},
   "source": [
    "## Extraction"
   ]
  },
  {
   "cell_type": "code",
   "execution_count": 175,
   "metadata": {},
   "outputs": [],
   "source": [
    "film_urls = get_film_urls(\"https://letterboxd.com/dromemario/list/fff-film-fueled-friends/\")\n",
    "\n",
    "#films_data = get_all_films(film_urls)\n",
    "\n",
    "#with open(\"films_data.json\", \"w\") as json_file:\n",
    "#    json.dump(films_data, json_file, indent=4)"
   ]
  },
  {
   "cell_type": "code",
   "execution_count": 182,
   "metadata": {},
   "outputs": [],
   "source": [
    "with open(\"films_data.json\", \"r\") as json_file:\n",
    "    films_data = json.load(json_file)"
   ]
  },
  {
   "cell_type": "code",
   "execution_count": 183,
   "metadata": {},
   "outputs": [],
   "source": [
    "all_dfs_dict = dicts_to_dfs(films_data)"
   ]
  },
  {
   "cell_type": "code",
   "execution_count": 184,
   "metadata": {},
   "outputs": [],
   "source": [
    "df_gdata = all_dfs_dict['df_gdata']\n",
    "df_cast = all_dfs_dict['df_cast']\n",
    "df_crew = all_dfs_dict['df_crew']\n",
    "df_details = all_dfs_dict['df_details']\n",
    "df_gthemes = all_dfs_dict['df_gthemes']"
   ]
  },
  {
   "cell_type": "code",
   "execution_count": 185,
   "metadata": {},
   "outputs": [
    {
     "data": {
      "text/html": [
       "<div>\n",
       "<style scoped>\n",
       "    .dataframe tbody tr th:only-of-type {\n",
       "        vertical-align: middle;\n",
       "    }\n",
       "\n",
       "    .dataframe tbody tr th {\n",
       "        vertical-align: top;\n",
       "    }\n",
       "\n",
       "    .dataframe thead th {\n",
       "        text-align: right;\n",
       "    }\n",
       "</style>\n",
       "<table border=\"1\" class=\"dataframe\">\n",
       "  <thead>\n",
       "    <tr style=\"text-align: right;\">\n",
       "      <th></th>\n",
       "      <th>name</th>\n",
       "      <th>link</th>\n",
       "      <th>character_name</th>\n",
       "      <th>film_id</th>\n",
       "      <th>film_title</th>\n",
       "    </tr>\n",
       "  </thead>\n",
       "  <tbody>\n",
       "    <tr>\n",
       "      <th>0</th>\n",
       "      <td>Luke Edwards</td>\n",
       "      <td>/actor/luke-edwards/</td>\n",
       "      <td>Jimmy</td>\n",
       "      <td>51869</td>\n",
       "      <td>The Wizard</td>\n",
       "    </tr>\n",
       "    <tr>\n",
       "      <th>1</th>\n",
       "      <td>Vince Trankina</td>\n",
       "      <td>/actor/vince-trankina/</td>\n",
       "      <td>Tate</td>\n",
       "      <td>51869</td>\n",
       "      <td>The Wizard</td>\n",
       "    </tr>\n",
       "    <tr>\n",
       "      <th>2</th>\n",
       "      <td>Wendy Phillips</td>\n",
       "      <td>/actor/wendy-phillips/</td>\n",
       "      <td>Christine</td>\n",
       "      <td>51869</td>\n",
       "      <td>The Wizard</td>\n",
       "    </tr>\n",
       "    <tr>\n",
       "      <th>3</th>\n",
       "      <td>Dea McAllister</td>\n",
       "      <td>/actor/dea-mcallister/</td>\n",
       "      <td>Counselor</td>\n",
       "      <td>51869</td>\n",
       "      <td>The Wizard</td>\n",
       "    </tr>\n",
       "    <tr>\n",
       "      <th>4</th>\n",
       "      <td>Sam McMurray</td>\n",
       "      <td>/actor/sam-mcmurray/</td>\n",
       "      <td>Bateman</td>\n",
       "      <td>51869</td>\n",
       "      <td>The Wizard</td>\n",
       "    </tr>\n",
       "    <tr>\n",
       "      <th>...</th>\n",
       "      <td>...</td>\n",
       "      <td>...</td>\n",
       "      <td>...</td>\n",
       "      <td>...</td>\n",
       "      <td>...</td>\n",
       "    </tr>\n",
       "    <tr>\n",
       "      <th>18</th>\n",
       "      <td>Wong Kim-Wai</td>\n",
       "      <td>/actor/wong-kim-wai/</td>\n",
       "      <td>Hitman</td>\n",
       "      <td>45489</td>\n",
       "      <td>Fallen Angels</td>\n",
       "    </tr>\n",
       "    <tr>\n",
       "      <th>19</th>\n",
       "      <td>Wong Kim-Bun</td>\n",
       "      <td>/actor/wong-kim-bun/</td>\n",
       "      <td>Hitman</td>\n",
       "      <td>45489</td>\n",
       "      <td>Fallen Angels</td>\n",
       "    </tr>\n",
       "    <tr>\n",
       "      <th>20</th>\n",
       "      <td>Choi Kwok-Keung</td>\n",
       "      <td>/actor/choi-kwok-keung/</td>\n",
       "      <td>Hitman</td>\n",
       "      <td>45489</td>\n",
       "      <td>Fallen Angels</td>\n",
       "    </tr>\n",
       "    <tr>\n",
       "      <th>21</th>\n",
       "      <td>Lee Tat-Chiu</td>\n",
       "      <td>/actor/lee-tat-chiu-1/</td>\n",
       "      <td>None</td>\n",
       "      <td>45489</td>\n",
       "      <td>Fallen Angels</td>\n",
       "    </tr>\n",
       "    <tr>\n",
       "      <th>22</th>\n",
       "      <td>Cheung Chi-Ping</td>\n",
       "      <td>/actor/cheung-chi-ping-1/</td>\n",
       "      <td>None</td>\n",
       "      <td>45489</td>\n",
       "      <td>Fallen Angels</td>\n",
       "    </tr>\n",
       "  </tbody>\n",
       "</table>\n",
       "<p>3158 rows × 5 columns</p>\n",
       "</div>"
      ],
      "text/plain": [
       "               name                       link character_name film_id  \\\n",
       "0      Luke Edwards       /actor/luke-edwards/          Jimmy   51869   \n",
       "1    Vince Trankina     /actor/vince-trankina/           Tate   51869   \n",
       "2    Wendy Phillips     /actor/wendy-phillips/      Christine   51869   \n",
       "3    Dea McAllister     /actor/dea-mcallister/      Counselor   51869   \n",
       "4      Sam McMurray       /actor/sam-mcmurray/        Bateman   51869   \n",
       "..              ...                        ...            ...     ...   \n",
       "18     Wong Kim-Wai       /actor/wong-kim-wai/         Hitman   45489   \n",
       "19     Wong Kim-Bun       /actor/wong-kim-bun/         Hitman   45489   \n",
       "20  Choi Kwok-Keung    /actor/choi-kwok-keung/         Hitman   45489   \n",
       "21     Lee Tat-Chiu     /actor/lee-tat-chiu-1/           None   45489   \n",
       "22  Cheung Chi-Ping  /actor/cheung-chi-ping-1/           None   45489   \n",
       "\n",
       "       film_title  \n",
       "0      The Wizard  \n",
       "1      The Wizard  \n",
       "2      The Wizard  \n",
       "3      The Wizard  \n",
       "4      The Wizard  \n",
       "..            ...  \n",
       "18  Fallen Angels  \n",
       "19  Fallen Angels  \n",
       "20  Fallen Angels  \n",
       "21  Fallen Angels  \n",
       "22  Fallen Angels  \n",
       "\n",
       "[3158 rows x 5 columns]"
      ]
     },
     "execution_count": 185,
     "metadata": {},
     "output_type": "execute_result"
    }
   ],
   "source": [
    "df_cast"
   ]
  },
  {
   "cell_type": "markdown",
   "metadata": {},
   "source": [
    "# Tests"
   ]
  },
  {
   "cell_type": "code",
   "execution_count": 187,
   "metadata": {},
   "outputs": [
    {
     "data": {
      "text/html": [
       "<div>\n",
       "<style scoped>\n",
       "    .dataframe tbody tr th:only-of-type {\n",
       "        vertical-align: middle;\n",
       "    }\n",
       "\n",
       "    .dataframe tbody tr th {\n",
       "        vertical-align: top;\n",
       "    }\n",
       "\n",
       "    .dataframe thead th {\n",
       "        text-align: right;\n",
       "    }\n",
       "</style>\n",
       "<table border=\"1\" class=\"dataframe\">\n",
       "  <thead>\n",
       "    <tr style=\"text-align: right;\">\n",
       "      <th></th>\n",
       "      <th>0</th>\n",
       "      <th>film_id</th>\n",
       "      <th>film_title</th>\n",
       "    </tr>\n",
       "  </thead>\n",
       "  <tbody>\n",
       "    <tr>\n",
       "      <th>0</th>\n",
       "      <td>Adventure</td>\n",
       "      <td>51869</td>\n",
       "      <td>The Wizard</td>\n",
       "    </tr>\n",
       "    <tr>\n",
       "      <th>1</th>\n",
       "      <td>Family</td>\n",
       "      <td>51869</td>\n",
       "      <td>The Wizard</td>\n",
       "    </tr>\n",
       "    <tr>\n",
       "      <th>2</th>\n",
       "      <td>Drama</td>\n",
       "      <td>51869</td>\n",
       "      <td>The Wizard</td>\n",
       "    </tr>\n",
       "    <tr>\n",
       "      <th>3</th>\n",
       "      <td>Comedy</td>\n",
       "      <td>51869</td>\n",
       "      <td>The Wizard</td>\n",
       "    </tr>\n",
       "    <tr>\n",
       "      <th>4</th>\n",
       "      <td>Underdogs and coming of age</td>\n",
       "      <td>51869</td>\n",
       "      <td>The Wizard</td>\n",
       "    </tr>\n",
       "  </tbody>\n",
       "</table>\n",
       "</div>"
      ],
      "text/plain": [
       "                             0 film_id  film_title\n",
       "0                    Adventure   51869  The Wizard\n",
       "1                       Family   51869  The Wizard\n",
       "2                        Drama   51869  The Wizard\n",
       "3                       Comedy   51869  The Wizard\n",
       "4  Underdogs and coming of age   51869  The Wizard"
      ]
     },
     "execution_count": 187,
     "metadata": {},
     "output_type": "execute_result"
    }
   ],
   "source": [
    "df_gthemes.head()"
   ]
  },
  {
   "cell_type": "code",
   "execution_count": 180,
   "metadata": {},
   "outputs": [
    {
     "name": "stdout",
     "output_type": "stream",
     "text": [
      "{'letterboxd_id': '51869',\n",
      " 'letterboxd_shorttitle': 'The Wizard',\n",
      " 'letterboxd_longtitle': 'The Wizard (1989)',\n",
      " 'letterboxd_slug': 'the-wizard',\n",
      " 'letterboxd_url': 'https://letterboxd.com/film/the-wizard/',\n",
      " 'imdb_url': 'http://www.imdb.com/title/tt0098663/maindetails',\n",
      " 'tmdb_url': 'https://www.themoviedb.org/movie/183/',\n",
      " 'tmdb_id': '183',\n",
      " 'release_year': '1989',\n",
      " 'duration': '100',\n",
      " 'avg_rating': '2.92'}\n"
     ]
    }
   ],
   "source": [
    "pprint.pprint(films_data[0]['general_data'], sort_dicts=False)"
   ]
  }
 ],
 "metadata": {
  "kernelspec": {
   "display_name": "Python 3",
   "language": "python",
   "name": "python3"
  },
  "language_info": {
   "codemirror_mode": {
    "name": "ipython",
    "version": 3
   },
   "file_extension": ".py",
   "mimetype": "text/x-python",
   "name": "python",
   "nbconvert_exporter": "python",
   "pygments_lexer": "ipython3",
   "version": "3.11.2"
  }
 },
 "nbformat": 4,
 "nbformat_minor": 2
}
