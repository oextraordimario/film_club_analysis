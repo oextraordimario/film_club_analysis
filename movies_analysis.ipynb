{
 "cells": [
  {
   "cell_type": "markdown",
   "metadata": {},
   "source": [
    "# Prep"
   ]
  },
  {
   "cell_type": "markdown",
   "metadata": {},
   "source": [
    "## Imports"
   ]
  },
  {
   "cell_type": "code",
   "execution_count": 406,
   "metadata": {},
   "outputs": [],
   "source": [
    "import pandas as pd\n",
    "import numpy as np\n",
    "import requests\n",
    "import pprint\n",
    "import json\n",
    "import os\n",
    "import re\n",
    "\n",
    "#from dotenv import load_dotenv\n",
    "from bs4 import BeautifulSoup\n",
    "from IPython.display import display, HTML"
   ]
  },
  {
   "cell_type": "markdown",
   "metadata": {},
   "source": [
    "## Auth"
   ]
  },
  {
   "cell_type": "code",
   "execution_count": 360,
   "metadata": {},
   "outputs": [],
   "source": [
    "#load_dotenv(r\"C:\\\\Users\\\\User\\\\Documents\\\\GitHub\\\\movies\\\\tmdb_auth.env\")\n",
    "\n",
    "#api_key = os.getenv(\"API_KEY\")\n",
    "#access_token = os.getenv(\"ACCESS_TOKEN\")"
   ]
  },
  {
   "cell_type": "markdown",
   "metadata": {},
   "source": [
    "# TMDB API Data"
   ]
  },
  {
   "cell_type": "code",
   "execution_count": 361,
   "metadata": {},
   "outputs": [],
   "source": [
    "hold = '''\n",
    "tmdb_url = \"https://api.themoviedb.org/3/account/21623434/rated/movies?language=en-US&page=1&sort_by=created_at.asc\"\n",
    "\n",
    "headers = {\n",
    "    \"accept\": \"application/json\",\n",
    "    \"Authorization\": f\"Bearer {access_token}\"\n",
    "}\n",
    "'''\n",
    "\n",
    "#response = requests.get(tmdb_url, headers=headers)\n"
   ]
  },
  {
   "cell_type": "code",
   "execution_count": 362,
   "metadata": {},
   "outputs": [],
   "source": [
    "#data = json.loads(response.text)\n",
    "#data['results']"
   ]
  },
  {
   "cell_type": "markdown",
   "metadata": {},
   "source": [
    "# Scrape Letterboxd Data"
   ]
  },
  {
   "cell_type": "markdown",
   "metadata": {},
   "source": [
    "## Functions"
   ]
  },
  {
   "cell_type": "markdown",
   "metadata": {},
   "source": [
    "### Extraction and general structuring"
   ]
  },
  {
   "cell_type": "code",
   "execution_count": 363,
   "metadata": {},
   "outputs": [],
   "source": [
    "# reads through a Letterboxd list and gets the url for each movie in it\n",
    "\n",
    "def get_film_urls(list_url):\n",
    "    content = requests.get(list_url).text\n",
    "    soup = BeautifulSoup(content, 'html')\n",
    "\n",
    "    url_list = [div['data-target-link'] for div in soup.find_all('div', class_='film-poster')]\n",
    "\n",
    "    return url_list"
   ]
  },
  {
   "cell_type": "code",
   "execution_count": 364,
   "metadata": {},
   "outputs": [],
   "source": [
    "# extracts the complete, raw HTML fom a URL\n",
    "\n",
    "def get_raw_film_html(film_url):\n",
    "    url = \"https://letterboxd.com\" + film_url\n",
    "    content = requests.get(url).text\n",
    "    soup = BeautifulSoup(content, 'html.parser')\n",
    "\n",
    "    return soup"
   ]
  },
  {
   "cell_type": "code",
   "execution_count": 365,
   "metadata": {},
   "outputs": [],
   "source": [
    "# goes through the raw HTML. extracts and structures general data and metadata about the film \n",
    "\n",
    "def get_general_film_data(soup):\n",
    "    duration_string = soup.find(class_='text-footer').get_text().replace('\\xa0', ' ').strip()\n",
    "\n",
    "    general_data = {\n",
    "        'letterboxd_id': soup.find(id='backdrop')['data-film-id'],\n",
    "        'letterboxd_shorttitle': soup.find('h1', class_='filmtitle').get_text(),\n",
    "        'letterboxd_longtitle': soup.find(property='og:title')['content'],\n",
    "        'letterboxd_slug': soup.find(id='backdrop')['data-film-slug'],\n",
    "        'letterboxd_url': soup.find(property='og:url')['content'],\n",
    "        'imdb_url': soup.find('a', {'data-track-action': 'IMDb'})['href'],\n",
    "        'tmdb_url': soup.find('a', {'data-track-action': 'TMDb'})['href'],\n",
    "        'tmdb_id': '',\n",
    "        'release_year': soup.find(class_='releaseyear').find('a').get_text(strip=True),\n",
    "        'duration': re.search(r'(\\d+)\\s+mins', duration_string).group(1),\n",
    "        'avg_rating': soup.find('meta', attrs={'name': 'twitter:data2'})['content'].split(' out')[0]\n",
    "    }\n",
    "\n",
    "    general_data['tmdb_id'] = general_data['tmdb_url'].split('/')[-2]\n",
    "\n",
    "    return general_data"
   ]
  },
  {
   "cell_type": "code",
   "execution_count": 366,
   "metadata": {},
   "outputs": [],
   "source": [
    "# goes through the raw HTML. extracts and structures data about the movie's cast\n",
    "\n",
    "def get_film_cast(soup):\n",
    "    cast_list = []\n",
    "    cast = soup.find(name='div', class_='cast-list').find_all('a', class_='tooltip')\n",
    "\n",
    "    for member in cast:\n",
    "        cast_member_info = {\n",
    "            'name': member.get_text(strip=True),\n",
    "            'link': member['href']\n",
    "            #'character_name': member['title']\n",
    "        }\n",
    "\n",
    "        try:\n",
    "            cast_member_info['character_name'] = member['title']\n",
    "        except:\n",
    "            cast_member_info['character_name'] = None\n",
    "        cast_list.append(cast_member_info)\n",
    "\n",
    "    return cast_list"
   ]
  },
  {
   "cell_type": "code",
   "execution_count": 367,
   "metadata": {},
   "outputs": [],
   "source": [
    "# goes through the raw HTML. extracts and structures data about the movie's crew\n",
    "\n",
    "def get_film_crew(soup):\n",
    "    crew_list = []\n",
    "    crew = soup.find(id='tab-crew').find_all('a')\n",
    "\n",
    "    for member in crew:\n",
    "        split_link = member['href'].split('/')\n",
    "        \n",
    "        crew_member_info = {\n",
    "            'name': member.get_text(strip=True),\n",
    "            'role': split_link[1],\n",
    "            'link': member['href'],\n",
    "        }\n",
    "        crew_list.append(crew_member_info)\n",
    "    \n",
    "    return crew_list"
   ]
  },
  {
   "cell_type": "code",
   "execution_count": 368,
   "metadata": {},
   "outputs": [],
   "source": [
    "# goes through the raw HTML. extracts and structures data about other details concerning the movie\n",
    "\n",
    "def get_film_details(soup):\n",
    "    details_list = []\n",
    "    details = soup.find(id='tab-details').find_all('a')\n",
    "\n",
    "    for detail in details:\n",
    "        split_link = detail['href'].split('/')\n",
    "\n",
    "        detail_info = {\n",
    "            'key': '',\n",
    "            'value': detail.get_text(strip=True),\n",
    "            'link': detail['href']\n",
    "        }\n",
    "\n",
    "        if 'studio' in detail['href']:\n",
    "            detail_info['key'] = 'studio'\n",
    "        elif 'country' in detail['href']:\n",
    "            detail_info['key'] = 'country'\n",
    "        elif 'language' in detail['href']:\n",
    "            detail_info['key'] = 'language'\n",
    "        else:\n",
    "            detail_info['key'] = 'ERROR'\n",
    "        details_list.append(detail_info)\n",
    "\n",
    "    return details_list"
   ]
  },
  {
   "cell_type": "code",
   "execution_count": 369,
   "metadata": {},
   "outputs": [],
   "source": [
    "# goes through the raw HTML. extracts and structures data about the movie's genres and themes\n",
    "\n",
    "def get_film_genres(soup):\n",
    "    genres = [a_tag.get_text(strip=True) for a_tag in soup.find(id='tab-genres').find_all('a')]\n",
    "\n",
    "    return genres[:-1]"
   ]
  },
  {
   "cell_type": "code",
   "execution_count": 370,
   "metadata": {},
   "outputs": [],
   "source": [
    "# creates a loop using the previous functions to extract all the relevant data and unify it in a dict\n",
    "\n",
    "def get_complete_film_data(film_url):\n",
    "    film_soup = get_raw_film_html(film_url)\n",
    "\n",
    "    film_data = {\n",
    "        'general_data': get_general_film_data(film_soup),\n",
    "        'cast': get_film_cast(film_soup),\n",
    "        'crew': get_film_crew(film_soup),\n",
    "        'details': get_film_details(film_soup),\n",
    "        'genres_and_themes': get_film_genres(film_soup)\n",
    "    }\n",
    "\n",
    "    return film_data"
   ]
  },
  {
   "cell_type": "code",
   "execution_count": 371,
   "metadata": {},
   "outputs": [],
   "source": [
    "# loops through all URLs in a list, extracting and structuring data from all of them\n",
    "\n",
    "def get_all_films(url_list):\n",
    "    whole_data = []\n",
    "\n",
    "    counter = 0\n",
    "    for film in url_list:\n",
    "        #print(f\"Extracting from URL #{counter}:\\n{film}\\n\")\n",
    "        whole_data.append(get_complete_film_data(film))\n",
    "        counter += 1\n",
    "    \n",
    "    return whole_data"
   ]
  },
  {
   "cell_type": "code",
   "execution_count": 372,
   "metadata": {},
   "outputs": [],
   "source": [
    "# transforms the data dictionaries into dataframes\n",
    "\n",
    "def dicts_to_dfs(data):\n",
    "    all_dfs_gdata = [] # general data\n",
    "    all_dfs_cast = []\n",
    "    all_dfs_crew = []\n",
    "    all_dfs_details = []\n",
    "    all_dfs_gthemes = []\n",
    "\n",
    "\n",
    "    for film in data:\n",
    "        id = film['general_data']['letterboxd_id']\n",
    "        title = film['general_data']['letterboxd_shorttitle']\n",
    "        \n",
    "        single_df_gdata = pd.DataFrame.from_dict([film['general_data']])\n",
    "        all_dfs_gdata.append(single_df_gdata)\n",
    "\n",
    "        single_df_cast = pd.DataFrame.from_dict(film['cast']).assign(film_id = id, film_title = title)\n",
    "        all_dfs_cast.append(single_df_cast)\n",
    "\n",
    "        single_df_crew = pd.DataFrame.from_dict(film['crew']).assign(film_id = id, film_title = title)\n",
    "        all_dfs_crew.append(single_df_crew)\n",
    "\n",
    "        single_df_details = pd.DataFrame.from_dict(film['details']).assign(film_id = id, film_title = title)\n",
    "        all_dfs_details.append(single_df_details)\n",
    "\n",
    "        single_df_gthemes = pd.DataFrame.from_dict(film['genres_and_themes']).assign(film_id = id, film_title = title)\n",
    "        all_dfs_gthemes.append(single_df_gthemes)\n",
    "\n",
    "    all_dfs_dict = {\n",
    "        'df_gdata': pd.concat(all_dfs_gdata),\n",
    "        'df_cast': pd.concat(all_dfs_cast),\n",
    "        'df_crew': pd.concat(all_dfs_crew),\n",
    "        'df_details': pd.concat(all_dfs_details),\n",
    "        'df_gthemes': pd.concat(all_dfs_gthemes)\n",
    "    }\n",
    "\n",
    "    return all_dfs_dict"
   ]
  },
  {
   "cell_type": "markdown",
   "metadata": {},
   "source": [
    "### Other treatments"
   ]
  },
  {
   "cell_type": "code",
   "execution_count": null,
   "metadata": {},
   "outputs": [],
   "source": []
  },
  {
   "cell_type": "markdown",
   "metadata": {},
   "source": [
    "# Extract, create and treat DFs"
   ]
  },
  {
   "cell_type": "code",
   "execution_count": 373,
   "metadata": {},
   "outputs": [],
   "source": [
    "#film_urls = get_film_urls(\"https://letterboxd.com/dromemario/list/fff-film-fueled-friends/\")\n",
    "\n",
    "#films_data = get_all_films(film_urls)\n",
    "\n",
    "#with open(\"films_data.json\", \"w\") as json_file:\n",
    "#    json.dump(films_data, json_file, indent=4)"
   ]
  },
  {
   "cell_type": "code",
   "execution_count": 374,
   "metadata": {},
   "outputs": [],
   "source": [
    "with open(\"films_data.json\", \"r\") as json_file:\n",
    "    films_data = json.load(json_file)"
   ]
  },
  {
   "cell_type": "code",
   "execution_count": 375,
   "metadata": {},
   "outputs": [],
   "source": [
    "all_dfs_dict = dicts_to_dfs(films_data)"
   ]
  },
  {
   "cell_type": "code",
   "execution_count": 376,
   "metadata": {},
   "outputs": [],
   "source": [
    "df_gdata = (\n",
    "    all_dfs_dict['df_gdata'][[\n",
    "        'letterboxd_id',\n",
    "        'letterboxd_shorttitle',\n",
    "        'letterboxd_longtitle',\n",
    "        'letterboxd_slug',\n",
    "        'tmdb_id',\n",
    "        'release_year',\n",
    "        'duration',\n",
    "        'avg_rating',\n",
    "        'letterboxd_url',\n",
    "        'tmdb_url',\n",
    "        'imdb_url'\n",
    "        ]]\n",
    "    .astype({\n",
    "        'release_year': 'int64',\n",
    "        'duration': 'int64',\n",
    "        'avg_rating': 'float64',\n",
    "        'letterboxd_url': 'string',\n",
    "        'tmdb_url': 'string',\n",
    "        'imdb_url': 'string'\n",
    "        })\n",
    "    .reset_index(drop=True)\n",
    ")\n",
    "\n",
    "df_cast = (\n",
    "    all_dfs_dict['df_cast'][[\n",
    "        'film_id',\n",
    "        'film_title',\n",
    "        'name',\n",
    "        'link',\n",
    "        'character_name'\n",
    "    ]]\n",
    "    .assign(link = 'letterboxd.com' + all_dfs_dict['df_cast']['link'])\n",
    "    .reset_index(drop=True)\n",
    "    .astype({'link': 'string'})\n",
    ")\n",
    "\n",
    "df_crew = (\n",
    "    all_dfs_dict['df_crew'][[\n",
    "        'film_id',\n",
    "        'film_title',\n",
    "        'name',\n",
    "        'role',\n",
    "        'link',\n",
    "    ]]\n",
    "    .assign(link = 'letterboxd.com' + all_dfs_dict['df_crew']['link'])\n",
    "    .reset_index(drop=True)\n",
    "    .astype({'link': 'string'})\n",
    ")\n",
    "\n",
    "df_details = (\n",
    "    all_dfs_dict['df_details'][[\n",
    "        'film_id',\n",
    "        'film_title',\n",
    "        'key',\n",
    "        'value',\n",
    "        'link',\n",
    "    ]]\n",
    "    .assign(link = 'letterboxd.com' + all_dfs_dict['df_details']['link'])\n",
    "    .reset_index(drop=True)\n",
    "    .astype({'link': 'string'})\n",
    ")\n",
    "\n",
    "df_gthemes = (\n",
    "    all_dfs_dict['df_gthemes'].rename(columns={0: 'value'})[[\n",
    "        'film_id',\n",
    "        'film_title',\n",
    "        'value'\n",
    "    ]]\n",
    "    .reset_index(drop=True)\n",
    ")"
   ]
  },
  {
   "cell_type": "markdown",
   "metadata": {},
   "source": [
    "# Generate Analytical Dataframes"
   ]
  },
  {
   "cell_type": "code",
   "execution_count": 377,
   "metadata": {},
   "outputs": [],
   "source": [
    "analytical_dataframes = {}"
   ]
  },
  {
   "cell_type": "markdown",
   "metadata": {},
   "source": [
    "## General data"
   ]
  },
  {
   "cell_type": "code",
   "execution_count": 378,
   "metadata": {},
   "outputs": [],
   "source": [
    "df_gdata['release_decade'] = (df_gdata['release_year'] // 10) * 10"
   ]
  },
  {
   "cell_type": "code",
   "execution_count": 379,
   "metadata": {},
   "outputs": [],
   "source": [
    "#df_gdata.head(3)"
   ]
  },
  {
   "cell_type": "code",
   "execution_count": 418,
   "metadata": {},
   "outputs": [],
   "source": [
    "median_rating = df_gdata['avg_rating'].median()\n",
    "closest_to_median_row = df_gdata.iloc[(df_gdata['avg_rating'] - median_rating).abs().idxmin()]\n",
    "\n",
    "main_metrics_dict = {\n",
    "    'movies_watched': len(df_gdata),\n",
    "    'minutes_watched': int(df_gdata['duration'].sum()),\n",
    "    'hours_watched': float((df_gdata['duration'].sum() / 60).round(2)),\n",
    "    'days_watched': float(((df_gdata['duration'].sum() / 60) / 24).round(2)),\n",
    "    'avg_movie_length': float(df_gdata['duration'].mean().round(2)),\n",
    "    'name_longest_movie': df_gdata.loc[df_gdata['duration'].idxmax()]['letterboxd_shorttitle'],\n",
    "    'duration_longest_movie': int(df_gdata['duration'].max().round(2)),\n",
    "    'name_shortest_movie': df_gdata.loc[df_gdata['duration'].idxmin()]['letterboxd_shorttitle'],\n",
    "    'duration_shortest_movie': int(df_gdata['duration'].min().round(2)),\n",
    "    'avg_lbxd_rating': float(df_gdata['avg_rating'].mean().round(2)),\n",
    "    'best_lbxd_rating': df_gdata.loc[df_gdata['avg_rating'].idxmax()]['letterboxd_shorttitle'],\n",
    "    'worst_lbxd_rating': df_gdata.loc[df_gdata['avg_rating'].idxmin()]['letterboxd_shorttitle']\n",
    "}\n",
    "\n",
    "analytical_dataframes['main_metrics'] = pd.DataFrame([main_metrics_dict])\n",
    "\n",
    "#analytical_dataframes['main_metrics']"
   ]
  },
  {
   "cell_type": "code",
   "execution_count": 416,
   "metadata": {},
   "outputs": [],
   "source": [
    "adf_moviesperdecade = df_gdata.groupby('release_decade')[['letterboxd_id']].count().reset_index().rename(columns={'letterboxd_id': 'movie_count'})\n",
    "missing_decades = pd.DataFrame({'release_decade': [1930, 1960], 'movie_count': [0, 0]})\n",
    "\n",
    "analytical_dataframes['movies_per_release_decade'] = (\n",
    "    pd.concat([adf_moviesperdecade, missing_decades])\n",
    "    .sort_values('release_decade')\n",
    "    .reset_index(drop=True)\n",
    ")\n",
    "\n",
    "#analytical_dataframes['movies_per_release_decade']"
   ]
  },
  {
   "cell_type": "markdown",
   "metadata": {},
   "source": [
    "## Cast"
   ]
  },
  {
   "cell_type": "code",
   "execution_count": 382,
   "metadata": {},
   "outputs": [],
   "source": [
    "analytical_dataframes['popular_actors'] = (\n",
    "    df_cast\n",
    "    .groupby(['link', 'name'])[['film_id']].count().reset_index()\n",
    "    .rename(columns={'film_id': 'movie_count'})\n",
    "    .sort_values('movie_count', ascending=False)\n",
    "    .query(\" movie_count > 2 \")\n",
    "    .reset_index(drop=True)\n",
    ")[['name', 'movie_count', 'link']]\n",
    "\n",
    "\n",
    "most_popular_actors = list(analytical_dataframes['popular_actors']['name'])\n",
    "\n",
    "analytical_dataframes['popular_actors_movies'] = (\n",
    "    df_cast[['name', 'film_title']]\n",
    "    .loc[df_cast['name'].isin(most_popular_actors)]\n",
    "    .sort_values(['name', 'film_title'], ascending=[False, True])\n",
    ")\n",
    "\n",
    "#analytical_dataframes['popular_actors']\n",
    "#analytical_dataframes['popular_actors_movies']"
   ]
  },
  {
   "cell_type": "markdown",
   "metadata": {},
   "source": [
    "## Crew"
   ]
  },
  {
   "cell_type": "code",
   "execution_count": 383,
   "metadata": {},
   "outputs": [],
   "source": [
    "adf_crew_moviesperrole = (\n",
    "    df_crew\n",
    "    .groupby(['link', 'name', 'role'])[['film_id']].count().reset_index()\n",
    "    .rename(columns={'film_id': 'movie_count'})\n",
    "    .sort_values(['role', 'movie_count'], ascending=[True,False])\n",
    "    .query(\" movie_count > 1 \")\n",
    "    .reset_index(drop=True)\n",
    ")[['name', 'role', 'movie_count', 'link']]\n",
    "\n",
    "#adf_crew_moviesperrole"
   ]
  },
  {
   "cell_type": "code",
   "execution_count": 384,
   "metadata": {},
   "outputs": [],
   "source": [
    "main_roles = ['director', 'producer', 'writer']\n",
    "secondary_roles = ['executive-producer', 'editor', 'cinematography', 'composer']\n",
    "\n",
    "for role in (main_roles + secondary_roles):\n",
    "    analytical_dataframes[f'popular_{role}s'] = adf_crew_moviesperrole.query(f\" role == '{role}' \")\n",
    "\n",
    "    most_popular_in_role = list(analytical_dataframes[f'popular_{role}s']['name'])\n",
    "\n",
    "    analytical_dataframes[f'popular_{role}s_movies'] = (\n",
    "        df_crew[['name', 'role', 'film_title']]\n",
    "        .loc[df_crew['name'].isin(most_popular_in_role)]\n",
    "        .query(f\" role == '{role}' \")\n",
    "        .sort_values(['name', 'film_title'], ascending=[False, True])\n",
    "        .drop(columns='role')\n",
    "    )"
   ]
  },
  {
   "cell_type": "code",
   "execution_count": 385,
   "metadata": {},
   "outputs": [],
   "source": [
    "#analytical_dataframes['popular_executive-producers']\n",
    "#analytical_dataframes['popular_executive-producers_movies']"
   ]
  },
  {
   "cell_type": "code",
   "execution_count": 386,
   "metadata": {},
   "outputs": [],
   "source": [
    "adf_terciaryroles = (\n",
    "    adf_crew_moviesperrole\n",
    "    .loc[~adf_crew_moviesperrole['role'].isin(main_roles+secondary_roles)]\n",
    "    .sort_values(['movie_count', 'role'], ascending=[False, True])\n",
    ")\n",
    "\n",
    "#adf_terciaryroles"
   ]
  },
  {
   "cell_type": "code",
   "execution_count": 387,
   "metadata": {},
   "outputs": [],
   "source": [
    "terciary_crew = [170, 121, 270, 13, 77, 6, 36, 115]\n",
    "most_popular_crew = adf_terciaryroles.loc[terciary_crew]['link']\n",
    "\n",
    "analytical_dataframes['popular_crew_movies'] = (\n",
    "    df_crew[['name', 'role', 'film_title']]\n",
    "    .loc[df_crew['link'].isin((most_popular_crew))]\n",
    "    .sort_values(['name', 'film_title'], ascending=[False, True])\n",
    ")\n",
    "\n",
    "#analytical_dataframes['popular_crew_movies']"
   ]
  },
  {
   "cell_type": "markdown",
   "metadata": {},
   "source": [
    "## Details"
   ]
  },
  {
   "cell_type": "code",
   "execution_count": 388,
   "metadata": {},
   "outputs": [],
   "source": [
    "df_details = df_details.drop_duplicates(subset=['film_id', 'film_title', 'key', 'value', 'link'], keep='first').reset_index(drop=True)"
   ]
  },
  {
   "cell_type": "code",
   "execution_count": 389,
   "metadata": {},
   "outputs": [],
   "source": [
    "df_details['movie_count'] = df_details.groupby('link')['link'].transform('count')"
   ]
  },
  {
   "cell_type": "code",
   "execution_count": 390,
   "metadata": {},
   "outputs": [],
   "source": [
    "df_studios = (\n",
    "    df_details\n",
    "    .loc[df_details['key'] == 'studio']\n",
    "    .sort_values(['movie_count', 'value'], ascending=False)\n",
    "    .rename(columns={'value': 'studio'})\n",
    ")\n",
    "\n",
    "df_countries = (\n",
    "    df_details\n",
    "    .loc[df_details['key'] == 'country']\n",
    "    .sort_values(['movie_count', 'value'], ascending=False)\n",
    "    .rename(columns={'value': 'country'})\n",
    ")\n",
    "\n",
    "df_languages = (\n",
    "    df_details\n",
    "    .loc[df_details['key'] == 'language']\n",
    "    .sort_values(['movie_count', 'value'], ascending=False)\n",
    "    .rename(columns={'value': 'language'})\n",
    ")"
   ]
  },
  {
   "cell_type": "code",
   "execution_count": 391,
   "metadata": {},
   "outputs": [],
   "source": [
    "analytical_dataframes['movies_per_country'] = (\n",
    "    df_countries\n",
    "    .groupby('country')[['movie_count']].max().reset_index()\n",
    "    .sort_values('movie_count', ascending=False)\n",
    ")"
   ]
  },
  {
   "cell_type": "code",
   "execution_count": 392,
   "metadata": {},
   "outputs": [],
   "source": [
    "analytical_dataframes['movies_per_language'] = (\n",
    "    df_languages\n",
    "    .groupby('language')[['movie_count']].max().reset_index()\n",
    "    .sort_values('movie_count', ascending=False)\n",
    ")"
   ]
  },
  {
   "cell_type": "code",
   "execution_count": 393,
   "metadata": {},
   "outputs": [],
   "source": [
    "analytical_dataframes['movies_per_studio'] = (\n",
    "    df_studios\n",
    "    .groupby('studio')[['movie_count']].max().reset_index()\n",
    "    .query(\" movie_count > 2 \")\n",
    "    .sort_values('movie_count', ascending=False)\n",
    ")"
   ]
  },
  {
   "cell_type": "markdown",
   "metadata": {},
   "source": [
    "## Genres and Themes"
   ]
  },
  {
   "cell_type": "code",
   "execution_count": 394,
   "metadata": {},
   "outputs": [],
   "source": [
    "df_gthemes['movie_count'] = df_gthemes.groupby('value')['value'].transform('count')"
   ]
  },
  {
   "cell_type": "code",
   "execution_count": 395,
   "metadata": {},
   "outputs": [],
   "source": [
    "genres = [\n",
    "    'Adventure',\n",
    "    'Family',\n",
    "    'Drama',\n",
    "    'Comedy',\n",
    "    'Fantasy',\n",
    "    'Action',\n",
    "    'Horror',\n",
    "    'Mystery',\n",
    "    'Thriller',\n",
    "    'Science Fiction',\n",
    "    'Crime',\n",
    "    'Western',\n",
    "    'Animation',\n",
    "    'History',\n",
    "    'Romance',\n",
    "    'Music'\n",
    "]\n",
    "\n",
    "df_genres = df_gthemes.loc[df_gthemes['value'].isin(genres)].rename(columns={'value': 'genre'})\n",
    "df_themes = df_gthemes.loc[~df_gthemes['value'].isin(genres)].rename(columns={'value': 'theme'})\n",
    "\n",
    "df_genres['primary_genre'] = df_genres.groupby('film_title').cumcount() == 0\n",
    "df_themes['primary_theme'] = df_themes.groupby('film_title').cumcount() == 0"
   ]
  },
  {
   "cell_type": "code",
   "execution_count": 396,
   "metadata": {},
   "outputs": [],
   "source": [
    "analytical_dataframes['popular_complete_genres'] = (\n",
    "    df_genres\n",
    "    .groupby('genre')[['film_title']].count().reset_index()\n",
    "    .sort_values('film_title', ascending=False)\n",
    ")\n",
    "\n",
    "#analytical_dataframes['popular_complete_genres']"
   ]
  },
  {
   "cell_type": "code",
   "execution_count": 397,
   "metadata": {},
   "outputs": [],
   "source": [
    "analytical_dataframes['popular_primary_genres'] = (\n",
    "    df_genres\n",
    "    .query(\" primary_genre == True \")\n",
    "    .groupby('genre')[['film_title']].count().reset_index()\n",
    "    .sort_values('film_title', ascending=False)\n",
    ")\n",
    "\n",
    "#analytical_dataframes['popular_primary_genres']"
   ]
  },
  {
   "cell_type": "code",
   "execution_count": 400,
   "metadata": {},
   "outputs": [],
   "source": [
    "analytical_dataframes['popular_themes'] = (\n",
    "    df_themes\n",
    "    .groupby('theme')[['movie_count']].max().reset_index()\n",
    "    .sort_values('movie_count', ascending=False)\n",
    ")\n",
    "\n",
    "#analytical_dataframes['popular_themes']"
   ]
  },
  {
   "cell_type": "markdown",
   "metadata": {},
   "source": [
    "# Presentation"
   ]
  },
  {
   "cell_type": "code",
   "execution_count": 403,
   "metadata": {},
   "outputs": [
    {
     "name": "stdout",
     "output_type": "stream",
     "text": [
      "main_metrics\n",
      "movies_per_release_decade\n",
      "popular_actors\n",
      "popular_actors_movies\n",
      "popular_directors\n",
      "popular_directors_movies\n",
      "popular_producers\n",
      "popular_producers_movies\n",
      "popular_writers\n",
      "popular_writers_movies\n",
      "popular_executive-producers\n",
      "popular_executive-producers_movies\n",
      "popular_editors\n",
      "popular_editors_movies\n",
      "popular_cinematographys\n",
      "popular_cinematographys_movies\n",
      "popular_composers\n",
      "popular_composers_movies\n",
      "popular_crew_movies\n",
      "movies_per_country\n",
      "movies_per_language\n",
      "movies_per_studio\n",
      "popular_complete_genres\n",
      "popular_primary_genres\n",
      "popular_themes\n"
     ]
    },
    {
     "data": {
      "text/plain": [
       "[None,\n",
       " None,\n",
       " None,\n",
       " None,\n",
       " None,\n",
       " None,\n",
       " None,\n",
       " None,\n",
       " None,\n",
       " None,\n",
       " None,\n",
       " None,\n",
       " None,\n",
       " None,\n",
       " None,\n",
       " None,\n",
       " None,\n",
       " None,\n",
       " None,\n",
       " None,\n",
       " None,\n",
       " None,\n",
       " None,\n",
       " None,\n",
       " None]"
      ]
     },
     "execution_count": 403,
     "metadata": {},
     "output_type": "execute_result"
    }
   ],
   "source": [
    "[print(k) for k in analytical_dataframes]"
   ]
  },
  {
   "cell_type": "markdown",
   "metadata": {},
   "source": [
    "## General Data"
   ]
  },
  {
   "cell_type": "markdown",
   "metadata": {},
   "source": [
    "### Display Function"
   ]
  },
  {
   "cell_type": "code",
   "execution_count": 468,
   "metadata": {},
   "outputs": [],
   "source": [
    "def display_single_general_metric(title, value):\n",
    "    display_value = str(analytical_dataframes['main_metrics'][f'{value}'].iloc[0])\n",
    "    display(HTML(f\"<div style='font-size:24px'>{title}</div><div style='font-size:128px; font-weight:bold'>{display_value}</div>\"))"
   ]
  },
  {
   "cell_type": "markdown",
   "metadata": {},
   "source": [
    "### Movies Watched"
   ]
  },
  {
   "cell_type": "code",
   "execution_count": 470,
   "metadata": {},
   "outputs": [
    {
     "data": {
      "text/html": [
       "<div style='font-size:24px'>Filmes Assistidos</div><div style='font-size:128px; font-weight:bold'>70</div>"
      ],
      "text/plain": [
       "<IPython.core.display.HTML object>"
      ]
     },
     "metadata": {},
     "output_type": "display_data"
    },
    {
     "data": {
      "text/html": [
       "<div style='font-size:24px'>Minutos Assistidos</div><div style='font-size:128px; font-weight:bold'>7531</div>"
      ],
      "text/plain": [
       "<IPython.core.display.HTML object>"
      ]
     },
     "metadata": {},
     "output_type": "display_data"
    },
    {
     "data": {
      "text/html": [
       "<div style='font-size:24px'>Horas Assistidos</div><div style='font-size:128px; font-weight:bold'>125.52</div>"
      ],
      "text/plain": [
       "<IPython.core.display.HTML object>"
      ]
     },
     "metadata": {},
     "output_type": "display_data"
    },
    {
     "data": {
      "text/html": [
       "<div style='font-size:24px'>Dias Assistidos</div><div style='font-size:128px; font-weight:bold'>5.23</div>"
      ],
      "text/plain": [
       "<IPython.core.display.HTML object>"
      ]
     },
     "metadata": {},
     "output_type": "display_data"
    }
   ],
   "source": [
    "display_single_general_metric('Filmes Assistidos', 'movies_watched')\n",
    "display_single_general_metric('Minutos Assistidos', 'minutes_watched')\n",
    "display_single_general_metric('Horas Assistidos', 'hours_watched')\n",
    "display_single_general_metric('Dias Assistidos', 'days_watched')"
   ]
  },
  {
   "cell_type": "markdown",
   "metadata": {},
   "source": [
    "### Movie Length"
   ]
  },
  {
   "cell_type": "code",
   "execution_count": 472,
   "metadata": {},
   "outputs": [
    {
     "data": {
      "text/html": [
       "<div style='font-size:24px'>Média de Duração por Filme</div><div style='font-size:128px; font-weight:bold'>107.59</div>"
      ],
      "text/plain": [
       "<IPython.core.display.HTML object>"
      ]
     },
     "metadata": {},
     "output_type": "display_data"
    }
   ],
   "source": [
    "display_single_general_metric('Média de Duração por Filme', 'avg_movie_length')"
   ]
  },
  {
   "cell_type": "code",
   "execution_count": 473,
   "metadata": {},
   "outputs": [
    {
     "data": {
      "text/html": [
       "<div style='font-size:24px'>Filme Mais Longo - Nome</div><div style='font-size:128px; font-weight:bold'>RRR</div>"
      ],
      "text/plain": [
       "<IPython.core.display.HTML object>"
      ]
     },
     "metadata": {},
     "output_type": "display_data"
    },
    {
     "data": {
      "text/html": [
       "<div style='font-size:24px'>Filme Mais Longo - Duração</div><div style='font-size:128px; font-weight:bold'>185</div>"
      ],
      "text/plain": [
       "<IPython.core.display.HTML object>"
      ]
     },
     "metadata": {},
     "output_type": "display_data"
    }
   ],
   "source": [
    "display_single_general_metric('Filme Mais Longo - Nome', 'name_longest_movie')\n",
    "display_single_general_metric('Filme Mais Longo - Duração', 'duration_longest_movie')"
   ]
  },
  {
   "cell_type": "code",
   "execution_count": 474,
   "metadata": {},
   "outputs": [
    {
     "data": {
      "text/html": [
       "<div style='font-size:24px'>Filme Mais Curto - Nome</div><div style='font-size:128px; font-weight:bold'>Army of Darkness</div>"
      ],
      "text/plain": [
       "<IPython.core.display.HTML object>"
      ]
     },
     "metadata": {},
     "output_type": "display_data"
    },
    {
     "data": {
      "text/html": [
       "<div style='font-size:24px'>Filme Mais Curto - Duração</div><div style='font-size:128px; font-weight:bold'>81</div>"
      ],
      "text/plain": [
       "<IPython.core.display.HTML object>"
      ]
     },
     "metadata": {},
     "output_type": "display_data"
    }
   ],
   "source": [
    "display_single_general_metric('Filme Mais Curto - Nome', 'name_shortest_movie')\n",
    "display_single_general_metric('Filme Mais Curto - Duração', 'duration_shortest_movie')"
   ]
  },
  {
   "cell_type": "markdown",
   "metadata": {},
   "source": [
    "### Letterboxs Ratings"
   ]
  },
  {
   "cell_type": "code",
   "execution_count": 476,
   "metadata": {},
   "outputs": [
    {
     "data": {
      "text/html": [
       "<div style='font-size:24px'>Nota Média no Letterboxd</div><div style='font-size:128px; font-weight:bold'>3.64</div>"
      ],
      "text/plain": [
       "<IPython.core.display.HTML object>"
      ]
     },
     "metadata": {},
     "output_type": "display_data"
    },
    {
     "data": {
      "text/html": [
       "<div style='font-size:24px'>Filme com Melhores Notas</div><div style='font-size:128px; font-weight:bold'>Dune: Part Two</div>"
      ],
      "text/plain": [
       "<IPython.core.display.HTML object>"
      ]
     },
     "metadata": {},
     "output_type": "display_data"
    },
    {
     "data": {
      "text/html": [
       "<div style='font-size:24px'>Filme com Piores Notas</div><div style='font-size:128px; font-weight:bold'>Cats</div>"
      ],
      "text/plain": [
       "<IPython.core.display.HTML object>"
      ]
     },
     "metadata": {},
     "output_type": "display_data"
    }
   ],
   "source": [
    "display_single_general_metric('Nota Média no Letterboxd', 'avg_lbxd_rating')\n",
    "display_single_general_metric('Filme com Melhores Notas', 'best_lbxd_rating')\n",
    "display_single_general_metric('Filme com Piores Notas', 'worst_lbxd_rating')"
   ]
  },
  {
   "cell_type": "markdown",
   "metadata": {},
   "source": [
    "## Cast"
   ]
  },
  {
   "cell_type": "markdown",
   "metadata": {},
   "source": [
    "## Crew"
   ]
  },
  {
   "cell_type": "markdown",
   "metadata": {},
   "source": [
    "# Tests"
   ]
  }
 ],
 "metadata": {
  "kernelspec": {
   "display_name": "Python 3",
   "language": "python",
   "name": "python3"
  },
  "language_info": {
   "codemirror_mode": {
    "name": "ipython",
    "version": 3
   },
   "file_extension": ".py",
   "mimetype": "text/x-python",
   "name": "python",
   "nbconvert_exporter": "python",
   "pygments_lexer": "ipython3",
   "version": "3.12.5"
  }
 },
 "nbformat": 4,
 "nbformat_minor": 2
}
